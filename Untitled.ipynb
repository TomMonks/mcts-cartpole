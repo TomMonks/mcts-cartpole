{
 "cells": [
  {
   "cell_type": "markdown",
   "metadata": {},
   "source": [
    "# Monte-Carlo Tree Search"
   ]
  },
  {
   "cell_type": "code",
   "execution_count": 35,
   "metadata": {},
   "outputs": [],
   "source": [
    "import gym\n",
    "\n",
    "import numpy as np\n",
    "import pandas as pd\n",
    "\n",
    "from copy import deepcopy"
   ]
  },
  {
   "cell_type": "code",
   "execution_count": 31,
   "metadata": {},
   "outputs": [
    {
     "name": "stdout",
     "output_type": "stream",
     "text": [
      "Starting obs: [-0.53845552  0.        ]\n"
     ]
    }
   ],
   "source": [
    "# Set up environment and import first observation\n",
    "env = gym.make(\"MountainCar-v0\")\n",
    "obs = env.reset()\n",
    "print('Starting obs:', obs)"
   ]
  },
  {
   "cell_type": "code",
   "execution_count": 32,
   "metadata": {},
   "outputs": [
    {
     "name": "stdout",
     "output_type": "stream",
     "text": [
      "\n",
      "Take action (push cart to right):\n",
      "\n",
      "New observation: [-0.53845552  0.        ]\n",
      "Reward: -1.0\n",
      "Done: False\n",
      "Extra info: {}\n"
     ]
    }
   ],
   "source": [
    "# Take action 1 (push cart to right and get new observation)\n",
    "print ('\\nTake action (push cart to right):')\n",
    "action = 1\n",
    "new_state, reward, done, info = env.step(action)\n",
    "print('\\nNew observation:', obs)\n",
    "print('Reward:', reward)\n",
    "print('Done:', done)\n",
    "print('Extra info:', info)"
   ]
  },
  {
   "cell_type": "code",
   "execution_count": 33,
   "metadata": {},
   "outputs": [
    {
     "data": {
      "text/plain": [
       "[20, 20]"
      ]
     },
     "execution_count": 33,
     "metadata": {},
     "output_type": "execute_result"
    }
   ],
   "source": [
    "DISCRETE_OBS_SIZE = [20] * len(env.observation_space.high)\n",
    "DISCRETE_OBS_SIZE"
   ]
  },
  {
   "cell_type": "code",
   "execution_count": 34,
   "metadata": {},
   "outputs": [],
   "source": [
    "def get_discrete_state(state, env):\n",
    "    discrete_state = (state - env.observation_space.low) / discrete_obs_win_size\n",
    "    return tuple(discrete_state.astype(np.int))"
   ]
  },
  {
   "cell_type": "code",
   "execution_count": 70,
   "metadata": {},
   "outputs": [],
   "source": [
    "class TreeNode(object):\n",
    "    def __init__(self, n_legal_actions):\n",
    "        self.n_legal_actions = n_legal_actions\n",
    "        self.child_nodes = {i:None for i in range(n_legal_actions)}\n",
    "        self.visits = 0\n",
    "        self.q_value = 0.0\n",
    "        \n",
    "        #array representation of children visits\n",
    "        self.means = np.empty(n_legal_actions, np.float)\n",
    "        self.actions = np.zeros(n_legal_actions, np.int32)\n",
    "            \n",
    "    def __iter__(self):\n",
    "        self.n = 0\n",
    "        return self\n",
    "\n",
    "    def __next__(self):\n",
    "        if self.n < self.n_legal_actions:\n",
    "            self.n += 1\n",
    "            return self.child_nodes[self.n-1]\n",
    "        else:\n",
    "            raise StopIteration"
   ]
  },
  {
   "cell_type": "code",
   "execution_count": 73,
   "metadata": {},
   "outputs": [
    {
     "name": "stdout",
     "output_type": "stream",
     "text": [
      "None\n",
      "None\n",
      "None\n"
     ]
    },
    {
     "data": {
      "text/plain": [
       "array([0, 0, 0], dtype=int32)"
      ]
     },
     "execution_count": 73,
     "metadata": {},
     "output_type": "execute_result"
    }
   ],
   "source": [
    "x = TreeNode(3)\n",
    "\n",
    "for child in x:\n",
    "    print(child)\n",
    "\n"
   ]
  },
  {
   "cell_type": "code",
   "execution_count": 47,
   "metadata": {},
   "outputs": [],
   "source": [
    "class MCTS(object):\n",
    "    def __init__(self, env, n_legal_actions):\n",
    "        self.env = env\n",
    "        self.states = [] \n",
    "        self.root = TreeNode(n_legal_actions)\n",
    "        \n",
    "    def solve(self, iterations=5):\n",
    "        pass\n",
    "    \n",
    "    def traverse_tree(self):\n",
    "        #for child in root:\n",
    "            \n",
    "    \n",
    "    def node_expansion(self):\n",
    "        pass\n",
    "    \n",
    "    def rollout(self):\n",
    "        #copy states\n",
    "        visited = {}\n",
    "        states_copy = self.states[:]\n",
    "        current_state = states_copy[-1]\n",
    "        \n",
    "    def backpropogate(self):\n",
    "        pass\n",
    "        "
   ]
  },
  {
   "cell_type": "code",
   "execution_count": null,
   "metadata": {},
   "outputs": [],
   "source": []
  }
 ],
 "metadata": {
  "kernelspec": {
   "display_name": "Python 3",
   "language": "python",
   "name": "python3"
  },
  "language_info": {
   "codemirror_mode": {
    "name": "ipython",
    "version": 3
   },
   "file_extension": ".py",
   "mimetype": "text/x-python",
   "name": "python",
   "nbconvert_exporter": "python",
   "pygments_lexer": "ipython3",
   "version": "3.8.1"
  }
 },
 "nbformat": 4,
 "nbformat_minor": 4
}
