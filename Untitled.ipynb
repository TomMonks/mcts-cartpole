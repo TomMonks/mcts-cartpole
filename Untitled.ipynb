{
 "cells": [
  {
   "cell_type": "markdown",
   "metadata": {},
   "source": [
    "# Monte-Carlo Tree Search"
   ]
  },
  {
   "cell_type": "code",
   "execution_count": 1,
   "metadata": {},
   "outputs": [],
   "source": [
    "import gym\n",
    "\n",
    "import numpy as np\n",
    "import pandas as pd\n",
    "\n",
    "from abc import ABC, abstractmethod\n",
    "\n",
    "from copy import deepcopy"
   ]
  },
  {
   "cell_type": "code",
   "execution_count": 2,
   "metadata": {},
   "outputs": [
    {
     "name": "stdout",
     "output_type": "stream",
     "text": [
      "Starting obs: [-0.55337788  0.        ]\n"
     ]
    }
   ],
   "source": [
    "# Set up environment and import first observation\n",
    "env = gym.make(\"MountainCar-v0\")\n",
    "obs = env.reset()\n",
    "print('Starting obs:', obs)"
   ]
  },
  {
   "cell_type": "code",
   "execution_count": 3,
   "metadata": {},
   "outputs": [
    {
     "name": "stdout",
     "output_type": "stream",
     "text": [
      "\n",
      "Take action (push cart to right):\n",
      "\n",
      "New observation: [-0.55337788  0.        ]\n",
      "Reward: -1.0\n",
      "Done: False\n",
      "Extra info: {}\n"
     ]
    }
   ],
   "source": [
    "# Take action 1 (push cart to right and get new observation)\n",
    "print ('\\nTake action (push cart to right):')\n",
    "action = 1\n",
    "new_state, reward, done, info = env.step(action)\n",
    "print('\\nNew observation:', obs)\n",
    "print('Reward:', reward)\n",
    "print('Done:', done)\n",
    "print('Extra info:', info)"
   ]
  },
  {
   "cell_type": "code",
   "execution_count": 4,
   "metadata": {},
   "outputs": [
    {
     "data": {
      "text/plain": [
       "[20, 20]"
      ]
     },
     "execution_count": 4,
     "metadata": {},
     "output_type": "execute_result"
    }
   ],
   "source": [
    "DISCRETE_OBS_SIZE = [20] * len(env.observation_space.high)\n",
    "DISCRETE_OBS_SIZE"
   ]
  },
  {
   "cell_type": "code",
   "execution_count": 5,
   "metadata": {},
   "outputs": [],
   "source": [
    "def get_discrete_state(state, env):\n",
    "    discrete_state = (state - env.observation_space.low) / discrete_obs_win_size\n",
    "    return tuple(discrete_state.astype(np.int))"
   ]
  },
  {
   "cell_type": "code",
   "execution_count": 23,
   "metadata": {},
   "outputs": [],
   "source": [
    "class TreeNode(object):\n",
    "    '''\n",
    "    Tree data structure to use with MCTS\n",
    "    '''\n",
    "    def __init__(self, n_legal_actions, parent=None, state=None):\n",
    "        self.n_legal_actions = n_legal_actions\n",
    "        self.child_nodes = {i:None for i in range(n_legal_actions)}\n",
    "        self.visits = 0\n",
    "        self.q_value = 0.0\n",
    "    \n",
    "        self.state = state\n",
    "        self.parent = parent\n",
    "        \n",
    "        #array representation of children visits\n",
    "        self.bandit_means = np.empty(n_legal_actions, np.float)\n",
    "        self.actions = np.zeros(n_legal_actions, np.int32)\n",
    "            \n",
    "    def __iter__(self):\n",
    "        self.n = 0\n",
    "        return self\n",
    "\n",
    "    def __next__(self):\n",
    "        if self.n < self.n_legal_actions:\n",
    "            self.n += 1\n",
    "            return self.child_nodes[self.n-1]\n",
    "        else:\n",
    "            raise StopIteration\n",
    "            \n",
    "    def expand(self):\n",
    "        for key in range(self.n_legal_actions):\n",
    "            self.child_nodes[key] = TreeNode(self.n_legal_actions, parent=self)\n",
    "            "
   ]
  },
  {
   "cell_type": "code",
   "execution_count": 24,
   "metadata": {},
   "outputs": [
    {
     "name": "stdout",
     "output_type": "stream",
     "text": [
      "None\n",
      "None\n",
      "None\n",
      "<__main__.TreeNode object at 0x7f7e471f01f0>\n",
      "<__main__.TreeNode object at 0x7f7e471f0940>\n",
      "<__main__.TreeNode object at 0x7f7e4726c3d0>\n"
     ]
    }
   ],
   "source": [
    "x = TreeNode(3)\n",
    "\n",
    "for child in x:\n",
    "    print(child)\n",
    "\n",
    "x.expand()\n",
    "\n",
    "for child in x:\n",
    "    print(child)"
   ]
  },
  {
   "cell_type": "code",
   "execution_count": 22,
   "metadata": {},
   "outputs": [],
   "source": [
    "class BanditAgent(ABC):\n",
    "    '''\n",
    "    Abstract base class for bandit agents\n",
    "    '''\n",
    "    @abstractmethod\n",
    "    def select_action(self, node):\n",
    "        pass\n",
    "    \n",
    "class EpsilonGreedy(BanditAgent):\n",
    "    '''\n",
    "    Epsilon-greedy agent for Tree Search\n",
    "    '''\n",
    "    def __init__(self, epsilon, random_state=None):\n",
    "        self.epsilon = epsilon\n",
    "        self._rand = np.random.RandomState(seed=random_state)\n",
    "        \n",
    "    def select_action(self, node):\n",
    "        u = self._rand.random()\n",
    "        if u > self.epsilon:\n",
    "            child_key = np.argmax(node.bandit_means)\n",
    "        else:\n",
    "            child_key = self._rand.choice(node.bandit_means)\n",
    "            \n",
    "        return parent.child_nodes[child_key]\n",
    "\n",
    "class UCB1(BanditAgent):\n",
    "    '''\n",
    "    UCB1 Agent for tree search\n",
    "    '''\n",
    "    def __init__(self):\n",
    "        pass\n",
    "\n",
    "    def select_action(self, node):\n",
    "        '''\n",
    "        Select the action to take from a tree node based on\n",
    "        UCB1 score (highest confidence bound)\n",
    "        '''\n",
    "        half_widths = (2 * np.sqrt((np.log(node.visits) / node.actions)))\n",
    "        upper_bounds = node.bandit_means + half_widths\n",
    "        child_key = np.argmax(upper_bounds)\n",
    "        return node.child_nodes[child_key]"
   ]
  },
  {
   "cell_type": "code",
   "execution_count": 16,
   "metadata": {},
   "outputs": [],
   "source": [
    "class MCTS(object):\n",
    "    def __init__(self, env, n_legal_actions, bandit_agent):\n",
    "        self.env = env\n",
    "        self.states = [] \n",
    "        self.root = TreeNode(n_legal_actions)\n",
    "        self.bandit_agent = bandit_agent\n",
    "        \n",
    "    def solve(self, iterations=5):\n",
    "        for i in range(iterations):\n",
    "            leaf = self.traverse_tree(self.root)\n",
    "            leaf.expand()\n",
    "            self.rollout(leaf)\n",
    "            self.backpropogate()\n",
    "            \n",
    "    def traverse_tree(self):\n",
    "        '''\n",
    "        Traverse the search tree.  Treats each tree node\n",
    "        as a bandit problem.  \n",
    "        \n",
    "        Returns:\n",
    "        ----------\n",
    "        TreeNode\n",
    "            Leaf node on the tree (i.e has not been visited)\n",
    "        '''\n",
    "        current_node = root\n",
    "        while current_node.visits > 0:\n",
    "            current_node = self.bandit_agent.select_action(current_node)\n",
    "        \n",
    "        return current_node\n",
    "            \n",
    "    def rollout(self, node):\n",
    "        #copy states\n",
    "        visited = {}\n",
    "        states_copy = self.states[:]\n",
    "        current_state = states_copy[-1]\n",
    "        \n",
    "    def backpropogate(self):\n",
    "        pass\n",
    "        "
   ]
  },
  {
   "cell_type": "code",
   "execution_count": 19,
   "metadata": {},
   "outputs": [],
   "source": [
    "agent = MCTS(env=env, n_legal_actions=3, bandit_agent=UCB1())"
   ]
  },
  {
   "cell_type": "code",
   "execution_count": null,
   "metadata": {},
   "outputs": [],
   "source": []
  },
  {
   "cell_type": "code",
   "execution_count": null,
   "metadata": {},
   "outputs": [],
   "source": []
  }
 ],
 "metadata": {
  "kernelspec": {
   "display_name": "Python 3",
   "language": "python",
   "name": "python3"
  },
  "language_info": {
   "codemirror_mode": {
    "name": "ipython",
    "version": 3
   },
   "file_extension": ".py",
   "mimetype": "text/x-python",
   "name": "python",
   "nbconvert_exporter": "python",
   "pygments_lexer": "ipython3",
   "version": "3.8.1"
  }
 },
 "nbformat": 4,
 "nbformat_minor": 4
}
